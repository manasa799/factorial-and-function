{
 "cells": [
  {
   "cell_type": "code",
   "execution_count": null,
   "id": "a4d7bb94-bfc6-427b-bf28-8748281ff96a",
   "metadata": {},
   "outputs": [],
   "source": [
    "def rstring (s):\n",
    "    if len(s)==0:\n",
    "        return s\n",
    "    return rstring (s[1:])+s[0]\n",
    "text = input(\"enter the word\")\n",
    "print(rstring(text))"
   ]
  }
 ],
 "metadata": {
  "kernelspec": {
   "display_name": "Python 3 (ipykernel)",
   "language": "python",
   "name": "python3"
  },
  "language_info": {
   "codemirror_mode": {
    "name": "ipython",
    "version": 3
   },
   "file_extension": ".py",
   "mimetype": "text/x-python",
   "name": "python",
   "nbconvert_exporter": "python",
   "pygments_lexer": "ipython3",
   "version": "3.12.7"
  }
 },
 "nbformat": 4,
 "nbformat_minor": 5
}
