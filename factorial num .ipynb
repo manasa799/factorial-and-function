{
 "cells": [
  {
   "cell_type": "code",
   "execution_count": null,
   "id": "401cb93a-fc41-4091-9f61-d9e529c9dd9a",
   "metadata": {},
   "outputs": [],
   "source": [
    "fact = 1\n",
    "def factorial (n):\n",
    "    global fact\n",
    "    fact =1\n",
    "    for i in range (1,n+1):\n",
    "        fact*=i\n",
    "    return fact \n",
    "num=int(input(\"enter the number\"))\n",
    "if num <0:\n",
    "    factorial (num)\n",
    "    print(f\"factorial of {num} is\",fact)"
   ]
  }
 ],
 "metadata": {
  "kernelspec": {
   "display_name": "Python 3 (ipykernel)",
   "language": "python",
   "name": "python3"
  },
  "language_info": {
   "codemirror_mode": {
    "name": "ipython",
    "version": 3
   },
   "file_extension": ".py",
   "mimetype": "text/x-python",
   "name": "python",
   "nbconvert_exporter": "python",
   "pygments_lexer": "ipython3",
   "version": "3.12.7"
  }
 },
 "nbformat": 4,
 "nbformat_minor": 5
}
