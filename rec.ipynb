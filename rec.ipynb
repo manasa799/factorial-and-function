{
 "cells": [
  {
   "cell_type": "code",
   "execution_count": null,
   "id": "6238f073-f5d1-4082-822e-5fe6a49f0638",
   "metadata": {},
   "outputs": [],
   "source": [
    "def factorial (n):\n",
    "    if n==0 or n==1:\n",
    "        return 1\n",
    "    return n*factorial(n-1)\n",
    "num =int(input(\"enter the value:\"))\n",
    "value = factorial(num)\n",
    "print(value)\n"
   ]
  }
 ],
 "metadata": {
  "kernelspec": {
   "display_name": "Python 3 (ipykernel)",
   "language": "python",
   "name": "python3"
  },
  "language_info": {
   "codemirror_mode": {
    "name": "ipython",
    "version": 3
   },
   "file_extension": ".py",
   "mimetype": "text/x-python",
   "name": "python",
   "nbconvert_exporter": "python",
   "pygments_lexer": "ipython3",
   "version": "3.12.7"
  }
 },
 "nbformat": 4,
 "nbformat_minor": 5
}
