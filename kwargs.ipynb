{
 "cells": [
  {
   "cell_type": "code",
   "execution_count": null,
   "id": "7b19ba15-98ac-4855-b421-5f70d9a53b18",
   "metadata": {},
   "outputs": [],
   "source": [
    "#''keyword args **kwargs\n",
    "def info(**kwargs):\n",
    "    for key, value in kwargs.items():\n",
    "        print(f\"{key}:{value}\")\n",
    "info(name=\"manu\",age =20 ,cgpa = 8.13)"
   ]
  }
 ],
 "metadata": {
  "kernelspec": {
   "display_name": "Python 3 (ipykernel)",
   "language": "python",
   "name": "python3"
  },
  "language_info": {
   "codemirror_mode": {
    "name": "ipython",
    "version": 3
   },
   "file_extension": ".py",
   "mimetype": "text/x-python",
   "name": "python",
   "nbconvert_exporter": "python",
   "pygments_lexer": "ipython3",
   "version": "3.12.7"
  }
 },
 "nbformat": 4,
 "nbformat_minor": 5
}
