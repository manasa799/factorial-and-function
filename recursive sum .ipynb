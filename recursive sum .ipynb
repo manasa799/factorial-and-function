{
 "cells": [
  {
   "cell_type": "code",
   "execution_count": null,
   "id": "10f813f5-7fdb-4bdd-8103-2850f38ab1da",
   "metadata": {},
   "outputs": [],
   "source": [
    "def nsum(n):\n",
    "    if n==0:\n",
    "        return 0\n",
    "    return n + nsum (n-1)\n",
    "num=int(input(\"enter n:\"))\n",
    "print(\"sum of first \",num,\"natural number is \" ,nsum(num))"
   ]
  }
 ],
 "metadata": {
  "kernelspec": {
   "display_name": "Python 3 (ipykernel)",
   "language": "python",
   "name": "python3"
  },
  "language_info": {
   "codemirror_mode": {
    "name": "ipython",
    "version": 3
   },
   "file_extension": ".py",
   "mimetype": "text/x-python",
   "name": "python",
   "nbconvert_exporter": "python",
   "pygments_lexer": "ipython3",
   "version": "3.12.7"
  }
 },
 "nbformat": 4,
 "nbformat_minor": 5
}
