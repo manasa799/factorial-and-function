{
 "cells": [
  {
   "cell_type": "code",
   "execution_count": 17,
   "id": "2922b9a7-3e42-488c-8da9-65c50182d28e",
   "metadata": {},
   "outputs": [
    {
     "name": "stdin",
     "output_type": "stream",
     "text": [
      "enter the terms: 6\n"
     ]
    },
    {
     "name": "stdout",
     "output_type": "stream",
     "text": [
      "0 1 1 2 3 5 "
     ]
    }
   ],
   "source": [
    "#fibonacci serice 0 1 1 2 3 5 8 13 23 34  55\n",
    "def fib(n):\n",
    "    if n<=1:\n",
    "        return n\n",
    "    else:\n",
    "        return fib(n-1)+fib(n-2)\n",
    "num = int (input(\"enter the terms:\"))\n",
    "for i in range (num):\n",
    "    print(fib(i),end =' ')"
   ]
  },
  {
   "cell_type": "code",
   "execution_count": 21,
   "id": "4bbb56c7-5a62-4ddf-ac96-81ee2ac2abc5",
   "metadata": {},
   "outputs": [
    {
     "name": "stdin",
     "output_type": "stream",
     "text": [
      "enter the 4 digit number 2344\n"
     ]
    },
    {
     "name": "stdout",
     "output_type": "stream",
     "text": [
      "sum of the digits: 13\n"
     ]
    }
   ],
   "source": [
    "def dsum(n):\n",
    "    if n==0:\n",
    "        return 0\n",
    "    return n%10+ temp(n//10)\n",
    "def temp (n):\n",
    "    return dsum (n)\n",
    "num =int(input(\"enter the 4 digit number\"))\n",
    "print (\"sum of the digits:\",dsum(num))"
   ]
  },
  {
   "cell_type": "code",
   "execution_count": 29,
   "id": "3e3290e4-9c5a-4550-90ed-bd78c471f48b",
   "metadata": {},
   "outputs": [
    {
     "name": "stdin",
     "output_type": "stream",
     "text": [
      "enter the number: 7\n"
     ]
    },
    {
     "name": "stdout",
     "output_type": "stream",
     "text": [
      "7 is odd\n"
     ]
    }
   ],
   "source": [
    "def one(n):\n",
    "    if n==0:\n",
    "        return True\n",
    "    else:\n",
    "        return two(n-1)\n",
    "def two(n):\n",
    "    if n==0:\n",
    "        return False\n",
    "    else:\n",
    "        return one(n-1)\n",
    "num = int(input(\"enter the number:\"))\n",
    "if one(num):\n",
    "    print(num,\"is even\")\n",
    "else:\n",
    "    print(num,\"is odd\")\n",
    "    "
   ]
  },
  {
   "cell_type": "code",
   "execution_count": 33,
   "id": "3b931189-606a-4e43-904a-608a92b46f46",
   "metadata": {},
   "outputs": [
    {
     "name": "stdin",
     "output_type": "stream",
     "text": [
      "enter the number: 7\n"
     ]
    },
    {
     "name": "stdout",
     "output_type": "stream",
     "text": [
      "manuuuuu 7\n",
      "maddela 6\n",
      "manuuuuu 5\n",
      "maddela 4\n",
      "manuuuuu 3\n",
      "maddela 2\n",
      "manuuuuu 1\n"
     ]
    }
   ],
   "source": [
    "def a(n):\n",
    "    if n<=0:\n",
    "        return \n",
    "    print(\"manuuuuu\",n)\n",
    "    b(n-1)\n",
    "def b(n):\n",
    "    if n<=0:\n",
    "        return\n",
    "    print(\"maddela\",n)\n",
    "    a(n-1)\n",
    "num= int(input(\"enter the number:\"))\n",
    "a(num)"
   ]
  },
  {
   "cell_type": "code",
   "execution_count": null,
   "id": "0c880818-612a-40fa-b585-4c2afeff5c3c",
   "metadata": {},
   "outputs": [],
   "source": []
  }
 ],
 "metadata": {
  "kernelspec": {
   "display_name": "Python 3 (ipykernel)",
   "language": "python",
   "name": "python3"
  },
  "language_info": {
   "codemirror_mode": {
    "name": "ipython",
    "version": 3
   },
   "file_extension": ".py",
   "mimetype": "text/x-python",
   "name": "python",
   "nbconvert_exporter": "python",
   "pygments_lexer": "ipython3",
   "version": "3.12.7"
  }
 },
 "nbformat": 4,
 "nbformat_minor": 5
}
