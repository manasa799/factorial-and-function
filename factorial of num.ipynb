{
 "cells": [
  {
   "cell_type": "code",
   "execution_count": null,
   "id": "0cf6a9ce-14b0-4b64-8fc3-4a2ac35167ec",
   "metadata": {},
   "outputs": [],
   "source": [
    "fact = 1\n",
    "def factorial (n):\n",
    "    global fact\n",
    "    fact =1\n",
    "    for i in range (1,n+1):\n",
    "        fact*=i\n",
    "    return fact \n",
    "num=int(input(\"enter the number\"))\n",
    "if num <0:\n",
    "    print(\"Factorial is not defined for negative numbers.\")\n",
    "else:\n",
    "    result = factorial(num)\n",
    "    print(f\"Factorial of {num} is {result}\")\n"
   ]
  }
 ],
 "metadata": {
  "kernelspec": {
   "display_name": "Python 3 (ipykernel)",
   "language": "python",
   "name": "python3"
  },
  "language_info": {
   "codemirror_mode": {
    "name": "ipython",
    "version": 3
   },
   "file_extension": ".py",
   "mimetype": "text/x-python",
   "name": "python",
   "nbconvert_exporter": "python",
   "pygments_lexer": "ipython3",
   "version": "3.12.7"
  }
 },
 "nbformat": 4,
 "nbformat_minor": 5
}
