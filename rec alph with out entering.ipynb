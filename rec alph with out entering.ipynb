{
 "cells": [
  {
   "cell_type": "code",
   "execution_count": 16,
   "id": "77512da0-569c-4410-9ab7-ca16f46bd9ff",
   "metadata": {},
   "outputs": [
    {
     "name": "stdout",
     "output_type": "stream",
     "text": [
      " abcdefghijklmnopqrstuvwxyz\n",
      "zyxwvutsrqponmlkjihgfedcba \n"
     ]
    }
   ],
   "source": [
    "def rstring (s):\n",
    "    if len(s)==0:\n",
    "        return s\n",
    "    return rstring (s[1:])+s[0]\n",
    "a = 97\n",
    "b = 122\n",
    "c =\" \"\n",
    "for i in range(a,b+1):\n",
    "    c += chr(i)\n",
    "print(c)\n",
    "print(rstring(c))"
   ]
  },
  {
   "cell_type": "code",
   "execution_count": 2,
   "id": "5de11c9e-0b55-4d83-8c3a-90e0cc0e87ff",
   "metadata": {},
   "outputs": [
    {
     "data": {
      "text/plain": [
       "122"
      ]
     },
     "execution_count": 2,
     "metadata": {},
     "output_type": "execute_result"
    }
   ],
   "source": [
    "ord('z')"
   ]
  },
  {
   "cell_type": "code",
   "execution_count": 10,
   "id": "7acdea4b-c785-4956-8372-83dc806b844f",
   "metadata": {},
   "outputs": [
    {
     "data": {
      "text/plain": [
       "97"
      ]
     },
     "execution_count": 10,
     "metadata": {},
     "output_type": "execute_result"
    }
   ],
   "source": [
    "ord('a')"
   ]
  },
  {
   "cell_type": "code",
   "execution_count": null,
   "id": "49f9aa71-2d82-41f8-9115-221f7c033928",
   "metadata": {},
   "outputs": [],
   "source": []
  }
 ],
 "metadata": {
  "kernelspec": {
   "display_name": "Python 3 (ipykernel)",
   "language": "python",
   "name": "python3"
  },
  "language_info": {
   "codemirror_mode": {
    "name": "ipython",
    "version": 3
   },
   "file_extension": ".py",
   "mimetype": "text/x-python",
   "name": "python",
   "nbconvert_exporter": "python",
   "pygments_lexer": "ipython3",
   "version": "3.12.7"
  }
 },
 "nbformat": 4,
 "nbformat_minor": 5
}
